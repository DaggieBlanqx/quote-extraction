{
 "cells": [
  {
   "cell_type": "markdown",
   "id": "d99f4a1d",
   "metadata": {},
   "source": [
    "# Coreferencing – proof of concept"
   ]
  },
  {
   "cell_type": "code",
   "execution_count": 1,
   "id": "d4be76d1",
   "metadata": {},
   "outputs": [],
   "source": [
    "import pandas\n",
    "import spacy\n",
    "from jsonschema import validate\n",
    "\n",
    "from typing import List"
   ]
  },
  {
   "cell_type": "code",
   "execution_count": 2,
   "id": "c9aafab8",
   "metadata": {},
   "outputs": [],
   "source": [
    "m_df = pandas.read_json('data/afp_macron1.jsonl', lines=True)"
   ]
  },
  {
   "cell_type": "code",
   "execution_count": 3,
   "id": "b9696f2a",
   "metadata": {},
   "outputs": [],
   "source": [
    "m_df['text'] = m_df['news'].apply(lambda l: \"\\n\".join(_ for _ in l))"
   ]
  },
  {
   "cell_type": "code",
   "execution_count": 4,
   "id": "ef09ff60",
   "metadata": {},
   "outputs": [
    {
     "name": "stderr",
     "output_type": "stream",
     "text": [
      "/usr/local/Caskroom/miniconda/base/envs/quotes/lib/python3.8/site-packages/spacy/util.py:732: UserWarning: [W095] Model 'en_pipeline' (0.0.0) was trained with spaCy v3.1 and may not be 100% compatible with the current version (3.1.2). If you see errors or degraded performance, download a newer compatible model or retrain your custom model with the current spaCy version. For more details and available updates, run: python -m spacy validate\n",
      "  warnings.warn(warn_msg)\n"
     ]
    }
   ],
   "source": [
    "nlp = spacy.load('cue_model_afp_gu_lg_dep_pos_830/')"
   ]
  },
  {
   "cell_type": "code",
   "execution_count": 5,
   "id": "fc16d413",
   "metadata": {},
   "outputs": [],
   "source": [
    "docs = list(nlp.pipe(m_df.text.tolist(), n_process=4))"
   ]
  },
  {
   "cell_type": "markdown",
   "id": "11f2f668",
   "metadata": {},
   "source": [
    "## Replace 'None' with correct data type"
   ]
  },
  {
   "cell_type": "code",
   "execution_count": 6,
   "id": "6e01aa2a",
   "metadata": {},
   "outputs": [],
   "source": [
    "m_df['entity_person'] = m_df['entity_person'].fillna({i: [] for i in m_df.index})\n",
    "m_df['entity_location'] = m_df['entity_location'].fillna({i: [] for i in m_df.index})\n",
    "m_df[\"news\"] = m_df['news'].fillna({i: [] for i in m_df.index})\n",
    "m_df[\"publisher\"] = \"AFP\""
   ]
  },
  {
   "cell_type": "markdown",
   "id": "825e847d",
   "metadata": {},
   "source": [
    "## Create entity data"
   ]
  },
  {
   "cell_type": "code",
   "execution_count": 7,
   "id": "4cfb51bc",
   "metadata": {},
   "outputs": [],
   "source": [
    "import re\n",
    "def get_paragraph_indices(doc):\n",
    "#     token_line_breaks = [-1, *[i for i, token in enumerate(doc) if '\\n' in token.text], len(doc)-1]  \n",
    "    token_line_breaks = [-1, *[m.start() for m in re.finditer('\\n', doc.text)], len(doc.text)-1] \n",
    "    # -1 from start and end so that we get the correct indices when adding 1 in loops below\n",
    "    paragraphs = []\n",
    "    for i,x in enumerate(token_line_breaks):\n",
    "        for j,y in enumerate(token_line_breaks):\n",
    "            if j == i+1:\n",
    "                paragraphs.append({'index': i, 'start': x+1, 'end': y+1})\n",
    "            else:\n",
    "                continue\n",
    "    return paragraphs"
   ]
  },
  {
   "cell_type": "code",
   "execution_count": 8,
   "id": "dcb43dba",
   "metadata": {},
   "outputs": [],
   "source": [
    "def get_paragraph_numbers(ent:spacy.tokens.span.Span, pargraph_indices: List[dict]):\n",
    "    start_char, end_char = ent.start_char, ent.end_char\n",
    "    start, end = None, None\n",
    "    para_span_start, para_span_end = None, None\n",
    "    for p in pargraph_indices:\n",
    "        para_start_char = p['start']\n",
    "        para_end_char = p['end']\n",
    "        if para_start_char <= start_char and para_end_char >= start_char:\n",
    "            start = p['index']\n",
    "            para_span_start = start_char - para_start_char\n",
    "        if para_start_char <= end_char and para_end_char >= end_char:\n",
    "            end = p['index']    \n",
    "            para_span_end = end_char - para_start_char\n",
    "    \n",
    "    results = {  'paragraph_start': start,\n",
    "                 'paragraph_end': end,\n",
    "                 'span_in_paragraph_start': para_span_start,\n",
    "                 'span_in_paragraph_end': para_span_end\n",
    "              }\n",
    "    return results"
   ]
  },
  {
   "cell_type": "code",
   "execution_count": 9,
   "id": "54057729",
   "metadata": {},
   "outputs": [],
   "source": [
    "doc_ents = []\n",
    "for doc in docs:\n",
    "    paragraph_indices = get_paragraph_indices(doc)\n",
    "    doc_ents.append(\n",
    "        [{'span_label': e.label_, \n",
    "          'span_text': e.text,\n",
    "          'span_start': e.start_char,\n",
    "          'span_end': e.end_char,\n",
    "          'span_coref': None,\n",
    "          **get_paragraph_numbers(e, paragraph_indices)\n",
    "         } for e in doc.ents])"
   ]
  },
  {
   "cell_type": "code",
   "execution_count": 10,
   "id": "a3e38106",
   "metadata": {},
   "outputs": [
    {
     "name": "stdout",
     "output_type": "stream",
     "text": [
      "['This uneasy relationship was complicated further when Paris accused Turkish ships of being \"extremely aggressive\" towards a French navy vessel in June.']\n",
      "ships\n",
      "ships\n"
     ]
    }
   ],
   "source": [
    "## Sanity check\n",
    "indx = 88\n",
    "span = doc_ents[indx][6]\n",
    "texts = docs[indx].text.split('\\n')\n",
    "\n",
    "print(texts[span['paragraph_start']:span['paragraph_end']+1])\n",
    "print(\"\\n\".join(\n",
    "    _ for _ in texts[span['paragraph_start']:span['paragraph_end']+1]\n",
    "    )[span['span_in_paragraph_start']:span['span_in_paragraph_end']])\n",
    "print(docs[indx].text[span['span_start']:span['span_end']])"
   ]
  },
  {
   "cell_type": "code",
   "execution_count": 11,
   "id": "7564e0c7",
   "metadata": {},
   "outputs": [],
   "source": [
    "m_df['entities'] = doc_ents"
   ]
  },
  {
   "cell_type": "markdown",
   "id": "74669b73",
   "metadata": {},
   "source": [
    "## Reformat data for output"
   ]
  },
  {
   "cell_type": "code",
   "execution_count": 12,
   "id": "7612a5ad",
   "metadata": {},
   "outputs": [],
   "source": [
    "m_df.rename(columns={'uno': 'path', 'created':'publish_date', 'news': 'paragraphs'}, inplace=True)"
   ]
  },
  {
   "cell_type": "code",
   "execution_count": 13,
   "id": "ad2b7727",
   "metadata": {},
   "outputs": [],
   "source": [
    "m_df['metadata'] = m_df[['path', \"publisher\", \"publish_date\", \"topic\", \"entity_person\", \"entity_location\", \"title\"]].to_dict(orient='records')"
   ]
  },
  {
   "cell_type": "code",
   "execution_count": 14,
   "id": "b75225eb",
   "metadata": {},
   "outputs": [],
   "source": [
    "data = m_df[[\"metadata\", \"paragraphs\", \"entities\"]]\n",
    "data.to_json('data.json', orient='records')"
   ]
  },
  {
   "cell_type": "markdown",
   "id": "5c068820",
   "metadata": {},
   "source": [
    "## Validate data against schema"
   ]
  },
  {
   "cell_type": "code",
   "execution_count": 15,
   "id": "194fbdcd",
   "metadata": {},
   "outputs": [],
   "source": [
    "data = data.to_json(orient='records')"
   ]
  },
  {
   "cell_type": "code",
   "execution_count": 16,
   "id": "b6ed2735",
   "metadata": {},
   "outputs": [],
   "source": [
    "import json\n",
    "with open('../schema/example_schema.json', 'rt') as fin:\n",
    "    schema = json.load(fin)\n",
    "schema_columns = list(schema['items']['properties'].keys())"
   ]
  },
  {
   "cell_type": "markdown",
   "id": "440b758f",
   "metadata": {},
   "source": [
    "### Validate each array item"
   ]
  },
  {
   "cell_type": "code",
   "execution_count": 17,
   "id": "5190d7a5",
   "metadata": {
    "scrolled": false
   },
   "outputs": [],
   "source": [
    "_ = [validate(item,schema['items']['properties']) for item in json.loads(data)]"
   ]
  },
  {
   "cell_type": "markdown",
   "id": "bcec2a95",
   "metadata": {},
   "source": [
    "### Validate entire dataset"
   ]
  },
  {
   "cell_type": "code",
   "execution_count": 18,
   "id": "ad6f1a75",
   "metadata": {
    "scrolled": false
   },
   "outputs": [],
   "source": [
    "validate(json.loads(data),schema)"
   ]
  },
  {
   "cell_type": "markdown",
   "id": "696a022b",
   "metadata": {},
   "source": [
    "## Visual inspection of data"
   ]
  },
  {
   "cell_type": "code",
   "execution_count": 19,
   "id": "b8b9ba17",
   "metadata": {},
   "outputs": [],
   "source": [
    "from spacy import displacy"
   ]
  },
  {
   "cell_type": "code",
   "execution_count": 20,
   "id": "4246640f",
   "metadata": {
    "scrolled": false
   },
   "outputs": [
    {
     "data": {
      "text/html": [
       "<span class=\"tex2jax_ignore\"><div class=\"entities\" style=\"line-height: 2.5; direction: ltr\">Brazil's President Jair Bolsonaro taunted UN rights chief Michelle Bachelet Wednesday over her father's death under 1970s Chilean dictator Augusto Pinochet, sparking a new international row after she raised concerns over a spike in killings by police.</br>Fresh from a spat with French President Emmanuel Macron over his management of wildfires raging in the Amazon, Bolsonaro took aim at Bachelet for allegedly meddling in Brazil's internal affairs by \n",
       "<mark class=\"entity\" style=\"background: #ffe500; padding: 0.45em 0.6em; margin: 0 0.25em; line-height: 1; border-radius: 0.35em;\">\n",
       "    &quot;attacking our courageous civil police and military.&quot;\n",
       "    <span style=\"font-size: 0.8em; font-weight: bold; line-height: 1; border-radius: 0.35em; vertical-align: middle; margin-left: 0.5rem\">Content</span>\n",
       "</mark>\n",
       "</br>The leftist former Chile president was \n",
       "<mark class=\"entity\" style=\"background: #ffe500; padding: 0.45em 0.6em; margin: 0 0.25em; line-height: 1; border-radius: 0.35em;\">\n",
       "    &quot;following Macron's line,&quot;\n",
       "    <span style=\"font-size: 0.8em; font-weight: bold; line-height: 1; border-radius: 0.35em; vertical-align: middle; margin-left: 0.5rem\">Content</span>\n",
       "</mark>\n",
       " \n",
       "<mark class=\"entity\" style=\"background: #ffabdb; padding: 0.45em 0.6em; margin: 0 0.25em; line-height: 1; border-radius: 0.35em;\">\n",
       "    Bolsonaro\n",
       "    <span style=\"font-size: 0.8em; font-weight: bold; line-height: 1; border-radius: 0.35em; vertical-align: middle; margin-left: 0.5rem\">Source</span>\n",
       "</mark>\n",
       " \n",
       "<mark class=\"entity\" style=\"background: #90dcff; padding: 0.45em 0.6em; margin: 0 0.25em; line-height: 1; border-radius: 0.35em;\">\n",
       "    tweeted\n",
       "    <span style=\"font-size: 0.8em; font-weight: bold; line-height: 1; border-radius: 0.35em; vertical-align: middle; margin-left: 0.5rem\">Cue</span>\n",
       "</mark>\n",
       ", later taunting Bachelet by praising the Pinochet regime, under which both she and her father were tortured.</br>Bachelet had told a news conference in Geneva that her office was concerned by a hike in killings by police officers and by broader human rights restrictions in Brazil.</br>\n",
       "<mark class=\"entity\" style=\"background: #ffabdb; padding: 0.45em 0.6em; margin: 0 0.25em; line-height: 1; border-radius: 0.35em;\">\n",
       "    She\n",
       "    <span style=\"font-size: 0.8em; font-weight: bold; line-height: 1; border-radius: 0.35em; vertical-align: middle; margin-left: 0.5rem\">Source</span>\n",
       "</mark>\n",
       " said that in Rio de Janeiro and Sao Paulo alone, \n",
       "<mark class=\"entity\" style=\"background: #ffe500; padding: 0.45em 0.6em; margin: 0 0.25em; line-height: 1; border-radius: 0.35em;\">\n",
       "    &quot;1,291 individuals were killed by the police. It might be police action, but what I want to highlight is there is an increase from 12 to 17 percent compared to the same period last year.&quot;\n",
       "    <span style=\"font-size: 0.8em; font-weight: bold; line-height: 1; border-radius: 0.35em; vertical-align: middle; margin-left: 0.5rem\">Content</span>\n",
       "</mark>\n",
       "</br>\n",
       "<mark class=\"entity\" style=\"background: #ffe500; padding: 0.45em 0.6em; margin: 0 0.25em; line-height: 1; border-radius: 0.35em;\">\n",
       "    &quot;In recent months, we have seen also a shrinking of civic and democratic space, highlighted by documented attacks against human rights defenders, restrictions on the work of civil society and attacks on educational institutions,&quot;\n",
       "    <span style=\"font-size: 0.8em; font-weight: bold; line-height: 1; border-radius: 0.35em; vertical-align: middle; margin-left: 0.5rem\">Content</span>\n",
       "</mark>\n",
       " \n",
       "<mark class=\"entity\" style=\"background: #ffabdb; padding: 0.45em 0.6em; margin: 0 0.25em; line-height: 1; border-radius: 0.35em;\">\n",
       "    Bachelet\n",
       "    <span style=\"font-size: 0.8em; font-weight: bold; line-height: 1; border-radius: 0.35em; vertical-align: middle; margin-left: 0.5rem\">Source</span>\n",
       "</mark>\n",
       " \n",
       "<mark class=\"entity\" style=\"background: #90dcff; padding: 0.45em 0.6em; margin: 0 0.25em; line-height: 1; border-radius: 0.35em;\">\n",
       "    said\n",
       "    <span style=\"font-size: 0.8em; font-weight: bold; line-height: 1; border-radius: 0.35em; vertical-align: middle; margin-left: 0.5rem\">Cue</span>\n",
       "</mark>\n",
       ".</br>Bolsonaro's harshest words for Bachelet came later, in comments to reporters outside his Brasilia residence.</br>Bachelet &quot;is saying that Brazil is losing democratic space, but forgets that her country would be a new Cuba if it wasn't for those who had the courage to curb the left, including her father -- a communist brigadier general -- in 1973.&quot;</br>Alberto Bachelet, an air force general, was arrested and tortured after a coup brought right-wing dictator Pinochet to power. Bachelet died in jail in 1974.</br>\n",
       "<mark class=\"entity\" style=\"background: #ffe500; padding: 0.45em 0.6em; margin: 0 0.25em; line-height: 1; border-radius: 0.35em;\">\n",
       "    &quot;When you have people with nothing to do, they occupy the UN human rights chair,&quot;\n",
       "    <span style=\"font-size: 0.8em; font-weight: bold; line-height: 1; border-radius: 0.35em; vertical-align: middle; margin-left: 0.5rem\">Content</span>\n",
       "</mark>\n",
       " \n",
       "<mark class=\"entity\" style=\"background: #ffabdb; padding: 0.45em 0.6em; margin: 0 0.25em; line-height: 1; border-radius: 0.35em;\">\n",
       "    he\n",
       "    <span style=\"font-size: 0.8em; font-weight: bold; line-height: 1; border-radius: 0.35em; vertical-align: middle; margin-left: 0.5rem\">Source</span>\n",
       "</mark>\n",
       " \n",
       "<mark class=\"entity\" style=\"background: #90dcff; padding: 0.45em 0.6em; margin: 0 0.25em; line-height: 1; border-radius: 0.35em;\">\n",
       "    added\n",
       "    <span style=\"font-size: 0.8em; font-weight: bold; line-height: 1; border-radius: 0.35em; vertical-align: middle; margin-left: 0.5rem\">Cue</span>\n",
       "</mark>\n",
       ".</br>The comments drew a sharp rebuke from Bachelet's successor as Chile's president, the conservative Sebastian Pinera.</br>\n",
       "<mark class=\"entity\" style=\"background: #ffe500; padding: 0.45em 0.6em; margin: 0 0.25em; line-height: 1; border-radius: 0.35em;\">\n",
       "    &quot;I do not share at all the allusion made by President Bolsonaro regarding a former president of Chile and especially on a subject as painful as the death of her father,&quot;\n",
       "    <span style=\"font-size: 0.8em; font-weight: bold; line-height: 1; border-radius: 0.35em; vertical-align: middle; margin-left: 0.5rem\">Content</span>\n",
       "</mark>\n",
       " \n",
       "<mark class=\"entity\" style=\"background: #ffabdb; padding: 0.45em 0.6em; margin: 0 0.25em; line-height: 1; border-radius: 0.35em;\">\n",
       "    Pinera\n",
       "    <span style=\"font-size: 0.8em; font-weight: bold; line-height: 1; border-radius: 0.35em; vertical-align: middle; margin-left: 0.5rem\">Source</span>\n",
       "</mark>\n",
       " \n",
       "<mark class=\"entity\" style=\"background: #90dcff; padding: 0.45em 0.6em; margin: 0 0.25em; line-height: 1; border-radius: 0.35em;\">\n",
       "    said\n",
       "    <span style=\"font-size: 0.8em; font-weight: bold; line-height: 1; border-radius: 0.35em; vertical-align: middle; margin-left: 0.5rem\">Cue</span>\n",
       "</mark>\n",
       " in Santiago.</br>The row comes just weeks away from the UN General Assembly in New York, which \n",
       "<mark class=\"entity\" style=\"background: #ffabdb; padding: 0.45em 0.6em; margin: 0 0.25em; line-height: 1; border-radius: 0.35em;\">\n",
       "    Bolsonaro\n",
       "    <span style=\"font-size: 0.8em; font-weight: bold; line-height: 1; border-radius: 0.35em; vertical-align: middle; margin-left: 0.5rem\">Source</span>\n",
       "</mark>\n",
       " \n",
       "<mark class=\"entity\" style=\"background: #90dcff; padding: 0.45em 0.6em; margin: 0 0.25em; line-height: 1; border-radius: 0.35em;\">\n",
       "    said\n",
       "    <span style=\"font-size: 0.8em; font-weight: bold; line-height: 1; border-radius: 0.35em; vertical-align: middle; margin-left: 0.5rem\">Cue</span>\n",
       "</mark>\n",
       " he would attend \n",
       "<mark class=\"entity\" style=\"background: #ffe500; padding: 0.45em 0.6em; margin: 0 0.25em; line-height: 1; border-radius: 0.35em;\">\n",
       "    &quot;in a wheelchair or a stretcher&quot;\n",
       "    <span style=\"font-size: 0.8em; font-weight: bold; line-height: 1; border-radius: 0.35em; vertical-align: middle; margin-left: 0.5rem\">Content</span>\n",
       "</mark>\n",
       " if necessary to defend his policy on the Amazon, despite facing surgery next Sunday.</br>The former army captain recently accused Macron of meddling in Brazil's affairs after the French president called for the internationalization of efforts to protect the Amazon after Brazil failed to control raging wildfires and deforestation.</br>Brazil's president further accused France and Germany of \n",
       "<mark class=\"entity\" style=\"background: #ffe500; padding: 0.45em 0.6em; margin: 0 0.25em; line-height: 1; border-radius: 0.35em;\">\n",
       "    &quot;buying&quot;\n",
       "    <span style=\"font-size: 0.8em; font-weight: bold; line-height: 1; border-radius: 0.35em; vertical-align: middle; margin-left: 0.5rem\">Content</span>\n",
       "</mark>\n",
       " Brazil's sovereignty after the G7 group of rich democracies offered $20 million in Amazon fire aid.</br>He initially rejected the money unless Macron withdrew &quot;insults&quot; made against him.</br>In her news conference, Bachelet \n",
       "<mark class=\"entity\" style=\"background: #90dcff; padding: 0.45em 0.6em; margin: 0 0.25em; line-height: 1; border-radius: 0.35em;\">\n",
       "    said\n",
       "    <span style=\"font-size: 0.8em; font-weight: bold; line-height: 1; border-radius: 0.35em; vertical-align: middle; margin-left: 0.5rem\">Cue</span>\n",
       "</mark>\n",
       " \n",
       "<mark class=\"entity\" style=\"background: #ffe500; padding: 0.45em 0.6em; margin: 0 0.25em; line-height: 1; border-radius: 0.35em;\">\n",
       "    &quot;we have seen a marked increase in police violence in 2019 amid a public discourse legitimizing summary executions and an absence of accountability.&quot;\n",
       "    <span style=\"font-size: 0.8em; font-weight: bold; line-height: 1; border-radius: 0.35em; vertical-align: middle; margin-left: 0.5rem\">Content</span>\n",
       "</mark>\n",
       "</br>- 'Environmental psychosis' -</br>She also said that since 2012, \n",
       "<mark class=\"entity\" style=\"background: #ffe500; padding: 0.45em 0.6em; margin: 0 0.25em; line-height: 1; border-radius: 0.35em;\">\n",
       "    &quot;Brazil has been one of the five countries in the world with the highest number of killings of human rights defenders.&quot;\n",
       "    <span style=\"font-size: 0.8em; font-weight: bold; line-height: 1; border-radius: 0.35em; vertical-align: middle; margin-left: 0.5rem\">Content</span>\n",
       "</mark>\n",
       "</br>\n",
       "<mark class=\"entity\" style=\"background: #ffe500; padding: 0.45em 0.6em; margin: 0 0.25em; line-height: 1; border-radius: 0.35em;\">\n",
       "    &quot;From January to June this year at least eight human rights defenders were killed,&quot;\n",
       "    <span style=\"font-size: 0.8em; font-weight: bold; line-height: 1; border-radius: 0.35em; vertical-align: middle; margin-left: 0.5rem\">Content</span>\n",
       "</mark>\n",
       " \n",
       "<mark class=\"entity\" style=\"background: #ffabdb; padding: 0.45em 0.6em; margin: 0 0.25em; line-height: 1; border-radius: 0.35em;\">\n",
       "    she\n",
       "    <span style=\"font-size: 0.8em; font-weight: bold; line-height: 1; border-radius: 0.35em; vertical-align: middle; margin-left: 0.5rem\">Source</span>\n",
       "</mark>\n",
       " \n",
       "<mark class=\"entity\" style=\"background: #90dcff; padding: 0.45em 0.6em; margin: 0 0.25em; line-height: 1; border-radius: 0.35em;\">\n",
       "    said\n",
       "    <span style=\"font-size: 0.8em; font-weight: bold; line-height: 1; border-radius: 0.35em; vertical-align: middle; margin-left: 0.5rem\">Cue</span>\n",
       "</mark>\n",
       ".</br>\n",
       "<mark class=\"entity\" style=\"background: #ffabdb; padding: 0.45em 0.6em; margin: 0 0.25em; line-height: 1; border-radius: 0.35em;\">\n",
       "    She\n",
       "    <span style=\"font-size: 0.8em; font-weight: bold; line-height: 1; border-radius: 0.35em; vertical-align: middle; margin-left: 0.5rem\">Source</span>\n",
       "</mark>\n",
       " said her office had documented killings over land disputes, but also in violence between environmental activists and illegal loggers, miners and farmers.</br>Since taking office in January, Bolsonaro has been accused of harming the Amazon and indigenous tribes in order to benefit his supporters in those industries.</br>\n",
       "<mark class=\"entity\" style=\"background: #ffe500; padding: 0.45em 0.6em; margin: 0 0.25em; line-height: 1; border-radius: 0.35em;\">\n",
       "    &quot;We are experiencing a real environmental psychosis,&quot;\n",
       "    <span style=\"font-size: 0.8em; font-weight: bold; line-height: 1; border-radius: 0.35em; vertical-align: middle; margin-left: 0.5rem\">Content</span>\n",
       "</mark>\n",
       " \n",
       "<mark class=\"entity\" style=\"background: #ffabdb; padding: 0.45em 0.6em; margin: 0 0.25em; line-height: 1; border-radius: 0.35em;\">\n",
       "    Bolsonaro\n",
       "    <span style=\"font-size: 0.8em; font-weight: bold; line-height: 1; border-radius: 0.35em; vertical-align: middle; margin-left: 0.5rem\">Source</span>\n",
       "</mark>\n",
       " \n",
       "<mark class=\"entity\" style=\"background: #90dcff; padding: 0.45em 0.6em; margin: 0 0.25em; line-height: 1; border-radius: 0.35em;\">\n",
       "    said\n",
       "    <span style=\"font-size: 0.8em; font-weight: bold; line-height: 1; border-radius: 0.35em; vertical-align: middle; margin-left: 0.5rem\">Cue</span>\n",
       "</mark>\n",
       " recently.</br>He has attacked environmental agencies and pledged to crack down on what he has called radical activism, and also questioned the latest official figures showing deforestation increasing by 88 percent in June compared with the same period last year.</br>On the eve of the G7 summit in France in August, Macron declared the forest fires, which are also affecting Bolivia, an \n",
       "<mark class=\"entity\" style=\"background: #ffe500; padding: 0.45em 0.6em; margin: 0 0.25em; line-height: 1; border-radius: 0.35em;\">\n",
       "    &quot;international crisis&quot;\n",
       "    <span style=\"font-size: 0.8em; font-weight: bold; line-height: 1; border-radius: 0.35em; vertical-align: middle; margin-left: 0.5rem\">Content</span>\n",
       "</mark>\n",
       " and put them on the agenda of the gathering.</br>Macron also accused Bolsonaro of lying to him about Brazil's climate change stance.</br>\n",
       "<mark class=\"entity\" style=\"background: #ffabdb; padding: 0.45em 0.6em; margin: 0 0.25em; line-height: 1; border-radius: 0.35em;\">\n",
       "    Bolsonaro\n",
       "    <span style=\"font-size: 0.8em; font-weight: bold; line-height: 1; border-radius: 0.35em; vertical-align: middle; margin-left: 0.5rem\">Source</span>\n",
       "</mark>\n",
       " \n",
       "<mark class=\"entity\" style=\"background: #90dcff; padding: 0.45em 0.6em; margin: 0 0.25em; line-height: 1; border-radius: 0.35em;\">\n",
       "    reacted\n",
       "    <span style=\"font-size: 0.8em; font-weight: bold; line-height: 1; border-radius: 0.35em; vertical-align: middle; margin-left: 0.5rem\">Cue</span>\n",
       "</mark>\n",
       " furiously, accusing Macron of having a \n",
       "<mark class=\"entity\" style=\"background: #ffe500; padding: 0.45em 0.6em; margin: 0 0.25em; line-height: 1; border-radius: 0.35em;\">\n",
       "    &quot;colonialist mentality.&quot;\n",
       "    <span style=\"font-size: 0.8em; font-weight: bold; line-height: 1; border-radius: 0.35em; vertical-align: middle; margin-left: 0.5rem\">Content</span>\n",
       "</mark>\n",
       "</br>The Brazilian leader later said he will stop using disposable pens made by France's Bic.</br>Under growing pressure to do more, \n",
       "<mark class=\"entity\" style=\"background: #ffabdb; padding: 0.45em 0.6em; margin: 0 0.25em; line-height: 1; border-radius: 0.35em;\">\n",
       "    Bolsonaro\n",
       "    <span style=\"font-size: 0.8em; font-weight: bold; line-height: 1; border-radius: 0.35em; vertical-align: middle; margin-left: 0.5rem\">Source</span>\n",
       "</mark>\n",
       " \n",
       "<mark class=\"entity\" style=\"background: #90dcff; padding: 0.45em 0.6em; margin: 0 0.25em; line-height: 1; border-radius: 0.35em;\">\n",
       "    issued\n",
       "    <span style=\"font-size: 0.8em; font-weight: bold; line-height: 1; border-radius: 0.35em; vertical-align: middle; margin-left: 0.5rem\">Cue</span>\n",
       "</mark>\n",
       " a nationwide 60-day ban on burning vegetation in the vast Amazon basin.</br>pt/db/wd</div></span>"
      ],
      "text/plain": [
       "<IPython.core.display.HTML object>"
      ]
     },
     "metadata": {},
     "output_type": "display_data"
    }
   ],
   "source": [
    "d = docs[159]\n",
    "options = {\"ents\": [\"Content\", \"Source\", \"Cue\"], \n",
    "           \"colors\": {\n",
    "                        \"Content\": \"#ffe500\",\n",
    "                        \"Source\": \"#ffabdb\",\n",
    "                        \"Cue\": \"#90dcff\"}\n",
    "          }\n",
    "displacy.render(d, style=\"ent\", options=options)"
   ]
  }
 ],
 "metadata": {
  "kernelspec": {
   "display_name": "Python 3 (ipykernel)",
   "language": "python",
   "name": "python3"
  },
  "language_info": {
   "codemirror_mode": {
    "name": "ipython",
    "version": 3
   },
   "file_extension": ".py",
   "mimetype": "text/x-python",
   "name": "python",
   "nbconvert_exporter": "python",
   "pygments_lexer": "ipython3",
   "version": "3.8.0"
  }
 },
 "nbformat": 4,
 "nbformat_minor": 5
}